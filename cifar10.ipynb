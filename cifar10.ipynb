{
 "cells": [
  {
   "cell_type": "markdown",
   "id": "484fbff9-c49b-47ac-a9ce-dbd98cd2f857",
   "metadata": {},
   "source": [
    "## Step 1: importing the necessary packages and data"
   ]
  },
  {
   "cell_type": "code",
   "execution_count": 2,
   "id": "22b56ea0-07c9-4e20-9ca5-2ddc4fad6233",
   "metadata": {},
   "outputs": [],
   "source": [
    "#install/import the ncecessary packages\n",
    "import sys\n",
    "assert sys.version_info >=(3, 5)\n",
    "\n",
    "#import sklearn, tensorflow and keras\n",
    "import sklearn\n",
    "import tensorflow as tf\n",
    "from tensorflow import keras\n",
    "\n",
    "%load_ext tensorboard\n",
    "\n",
    "#import other common packages\n",
    "import numpy as np\n",
    "import os\n",
    "\n",
    "\n",
    "#set random seed\n",
    "np.random.seed(42)\n",
    "\n",
    "#specify matplotlib figures\n",
    "%matplotlib inline\n",
    "from matplotlib import pyplot as plt\n",
    "import matplotlib as mpl\n",
    "mpl.rc('axes', labelsize=14)\n",
    "mpl.rc('xtick', labelsize=12)\n",
    "mpl.rc('ytick', labelsize=12)\n",
    "\n",
    "#specify where to save the figures\n",
    "PROJECT_ROOT_DIR = \".\"\n",
    "CHAPTER_ID =  \"deep\"\n",
    "IMAGES_PATH =  os.path.join(PROJECT_ROOT_DIR, \"images\", CHAPTER_ID)\n",
    "os.makedirs(IMAGES_PATH, exist_ok=True)\n",
    "\n",
    "def save_fig(fig_id, tight_layout=True, fig_extension=\"png\", resolution=300):\n",
    "    path = os.path.join(IMAGES_PATH, fig_id + \".\" + fig_extension)\n",
    "    print (\"Saving figure\", fig_id)\n",
    "    if tight_layout:\n",
    "        plt.tight_layout()\n",
    "    plt.savefig(path, format=fig_extension, dpi=resolution)"
   ]
  },
  {
   "cell_type": "code",
   "execution_count": 2,
   "id": "cf4ecca0-a1dd-4df6-9d2f-3a59ae8f1704",
   "metadata": {},
   "outputs": [],
   "source": [
    "#import the CIFAR-10 dataset\n",
    "from keras.datasets import cifar10\n",
    "from keras.utils.np_utils import to_categorical\n",
    "\n",
    "(X_train_full, y_train_full), (X_test, y_test) = cifar10.load_data()"
   ]
  },
  {
   "cell_type": "code",
   "execution_count": 3,
   "id": "44d87536-0eb0-4b0f-b28e-f5270185d1bb",
   "metadata": {},
   "outputs": [],
   "source": [
    "X_train = X_train_full[5000:]\n",
    "y_train = y_train_full[5000:]\n",
    "X_valid = X_train_full[:5000]\n",
    "y_valid = y_train_full[:5000]"
   ]
  },
  {
   "cell_type": "code",
   "execution_count": 4,
   "id": "bf11e1d4-ed5b-4501-8581-0da79134ad27",
   "metadata": {},
   "outputs": [
    {
     "name": "stdout",
     "output_type": "stream",
     "text": [
      "Model: \"sequential\"\n",
      "_________________________________________________________________\n",
      " Layer (type)                Output Shape              Param #   \n",
      "=================================================================\n",
      " flatten (Flatten)           (None, 3072)              0         \n",
      "                                                                 \n",
      " dense (Dense)               (None, 100)               307300    \n",
      "                                                                 \n",
      " dense_1 (Dense)             (None, 100)               10100     \n",
      "                                                                 \n",
      " dense_2 (Dense)             (None, 100)               10100     \n",
      "                                                                 \n",
      " dense_3 (Dense)             (None, 100)               10100     \n",
      "                                                                 \n",
      " dense_4 (Dense)             (None, 100)               10100     \n",
      "                                                                 \n",
      " dense_5 (Dense)             (None, 100)               10100     \n",
      "                                                                 \n",
      " dense_6 (Dense)             (None, 100)               10100     \n",
      "                                                                 \n",
      " dense_7 (Dense)             (None, 100)               10100     \n",
      "                                                                 \n",
      " dense_8 (Dense)             (None, 100)               10100     \n",
      "                                                                 \n",
      " dense_9 (Dense)             (None, 100)               10100     \n",
      "                                                                 \n",
      " dense_10 (Dense)            (None, 100)               10100     \n",
      "                                                                 \n",
      " dense_11 (Dense)            (None, 100)               10100     \n",
      "                                                                 \n",
      " dense_12 (Dense)            (None, 100)               10100     \n",
      "                                                                 \n",
      " dense_13 (Dense)            (None, 100)               10100     \n",
      "                                                                 \n",
      " dense_14 (Dense)            (None, 100)               10100     \n",
      "                                                                 \n",
      " dense_15 (Dense)            (None, 100)               10100     \n",
      "                                                                 \n",
      " dense_16 (Dense)            (None, 100)               10100     \n",
      "                                                                 \n",
      " dense_17 (Dense)            (None, 100)               10100     \n",
      "                                                                 \n",
      " dense_18 (Dense)            (None, 100)               10100     \n",
      "                                                                 \n",
      " dense_19 (Dense)            (None, 100)               10100     \n",
      "                                                                 \n",
      " dense_20 (Dense)            (None, 10)                1010      \n",
      "                                                                 \n",
      "=================================================================\n",
      "Total params: 500,210\n",
      "Trainable params: 500,210\n",
      "Non-trainable params: 0\n",
      "_________________________________________________________________\n"
     ]
    }
   ],
   "source": [
    "from keras.models import Sequential\n",
    "from keras.layers import Dense\n",
    "from keras.layers import Flatten\n",
    "\n",
    "model = Sequential()\n",
    "model.add(Flatten(input_shape=[32, 32, 3]))\n",
    "for _ in range(20):\n",
    "    model.add(Dense(100, activation=\"elu\", kernel_initializer=\"he_normal\"))\n",
    "model.add(Dense(10, activation=\"softmax\"))\n",
    "\n",
    "#compile the model\n",
    "optimizer = keras.optimizers.experimental.Nadam(learning_rate=5e-5)\n",
    "model.compile(optimizer=optimizer, loss=\"sparse_categorical_crossentropy\", metrics=[\"accuracy\"])\n",
    "model.summary()"
   ]
  },
  {
   "cell_type": "code",
   "execution_count": 5,
   "id": "f20c016d-6e01-4180-8985-e249f638cff7",
   "metadata": {},
   "outputs": [],
   "source": [
    "#create callbacks\n",
    "\n",
    "early_stopping_cb = keras.callbacks.EarlyStopping(patience=4)\n",
    "model_checkpoint_cb = keras.callbacks.ModelCheckpoint(\"my_cifar10_model.h5\", save_best_only=True)\n",
    "run_index = 1 #increment every time you train the model\n",
    "run_logdir = os.path.join(os.curdir, \"my_cifar_logs\", \"run_{:03d}\".format(run_index))\n",
    "tensorboard_cb = keras.callbacks.TensorBoard(run_logdir)\n",
    "callbacks= [early_stopping_cb, model_checkpoint_cb, tensorboard_cb]"
   ]
  },
  {
   "cell_type": "code",
   "execution_count": 6,
   "id": "f6a99175-05ae-40e4-8dfd-90ea36dbb7b6",
   "metadata": {},
   "outputs": [
    {
     "data": {
      "text/plain": [
       "Reusing TensorBoard on port 6006 (pid 7824), started 0:20:32 ago. (Use '!kill 7824' to kill it.)"
      ]
     },
     "metadata": {},
     "output_type": "display_data"
    },
    {
     "data": {
      "text/html": [
       "\n",
       "      <iframe id=\"tensorboard-frame-b3b989d0c617dcbc\" width=\"100%\" height=\"800\" frameborder=\"0\">\n",
       "      </iframe>\n",
       "      <script>\n",
       "        (function() {\n",
       "          const frame = document.getElementById(\"tensorboard-frame-b3b989d0c617dcbc\");\n",
       "          const url = new URL(\"/\", window.location);\n",
       "          const port = 6006;\n",
       "          if (port) {\n",
       "            url.port = port;\n",
       "          }\n",
       "          frame.src = url;\n",
       "        })();\n",
       "      </script>\n",
       "    "
      ],
      "text/plain": [
       "<IPython.core.display.HTML object>"
      ]
     },
     "metadata": {},
     "output_type": "display_data"
    }
   ],
   "source": [
    "%tensorboard --logdir=./my_cifar_logs --port=6006"
   ]
  },
  {
   "cell_type": "code",
   "execution_count": 7,
   "id": "6ebf3fd4-4517-4767-83e7-79fcb4226342",
   "metadata": {},
   "outputs": [
    {
     "name": "stdout",
     "output_type": "stream",
     "text": [
      "Epoch 1/20\n",
      "1407/1407 [==============================] - 74s 39ms/step - loss: 5.0268 - accuracy: 0.1549 - val_loss: 2.2351 - val_accuracy: 0.2028\n",
      "Epoch 2/20\n",
      "1407/1407 [==============================] - 50s 36ms/step - loss: 2.1382 - accuracy: 0.2168 - val_loss: 2.0647 - val_accuracy: 0.2312\n",
      "Epoch 3/20\n",
      "1407/1407 [==============================] - 54s 38ms/step - loss: 2.0277 - accuracy: 0.2527 - val_loss: 1.9915 - val_accuracy: 0.2490\n",
      "Epoch 4/20\n",
      "1407/1407 [==============================] - 63s 45ms/step - loss: 1.9529 - accuracy: 0.2811 - val_loss: 1.9401 - val_accuracy: 0.3038\n",
      "Epoch 5/20\n",
      "1407/1407 [==============================] - 58s 41ms/step - loss: 1.8790 - accuracy: 0.3149 - val_loss: 1.8543 - val_accuracy: 0.3072\n",
      "Epoch 6/20\n",
      "1407/1407 [==============================] - 63s 45ms/step - loss: 1.8214 - accuracy: 0.3382 - val_loss: 1.7750 - val_accuracy: 0.3508\n",
      "Epoch 7/20\n",
      "1407/1407 [==============================] - 58s 41ms/step - loss: 1.7713 - accuracy: 0.3583 - val_loss: 1.7807 - val_accuracy: 0.3500\n",
      "Epoch 8/20\n",
      "1407/1407 [==============================] - 62s 44ms/step - loss: 1.7364 - accuracy: 0.3723 - val_loss: 1.7157 - val_accuracy: 0.3838\n",
      "Epoch 9/20\n",
      "1407/1407 [==============================] - 71s 50ms/step - loss: 1.6983 - accuracy: 0.3837 - val_loss: 1.6966 - val_accuracy: 0.3810\n",
      "Epoch 10/20\n",
      "1407/1407 [==============================] - 63s 45ms/step - loss: 1.6688 - accuracy: 0.3953 - val_loss: 1.7096 - val_accuracy: 0.3826\n",
      "Epoch 11/20\n",
      "1407/1407 [==============================] - 67s 48ms/step - loss: 1.6397 - accuracy: 0.4114 - val_loss: 1.7848 - val_accuracy: 0.3568\n",
      "Epoch 12/20\n",
      "1407/1407 [==============================] - 75s 53ms/step - loss: 1.6194 - accuracy: 0.4170 - val_loss: 1.7190 - val_accuracy: 0.3870\n",
      "Epoch 13/20\n",
      "1407/1407 [==============================] - 73s 52ms/step - loss: 1.6011 - accuracy: 0.4219 - val_loss: 1.6306 - val_accuracy: 0.4154\n",
      "Epoch 14/20\n",
      "1407/1407 [==============================] - 69s 49ms/step - loss: 1.5820 - accuracy: 0.4310 - val_loss: 1.6810 - val_accuracy: 0.3970\n",
      "Epoch 15/20\n",
      "1407/1407 [==============================] - 76s 54ms/step - loss: 1.5666 - accuracy: 0.4366 - val_loss: 1.6206 - val_accuracy: 0.4178\n",
      "Epoch 16/20\n",
      "1407/1407 [==============================] - 71s 51ms/step - loss: 1.5519 - accuracy: 0.4433 - val_loss: 1.7006 - val_accuracy: 0.3840\n",
      "Epoch 17/20\n",
      "1407/1407 [==============================] - 75s 53ms/step - loss: 1.5371 - accuracy: 0.4503 - val_loss: 1.6722 - val_accuracy: 0.3984\n",
      "Epoch 18/20\n",
      "1407/1407 [==============================] - 76s 54ms/step - loss: 1.5275 - accuracy: 0.4508 - val_loss: 1.6401 - val_accuracy: 0.4108\n",
      "Epoch 19/20\n",
      "1407/1407 [==============================] - 67s 48ms/step - loss: 1.5189 - accuracy: 0.4552 - val_loss: 1.6077 - val_accuracy: 0.4146\n",
      "Epoch 20/20\n",
      "1407/1407 [==============================] - 65s 46ms/step - loss: 1.5030 - accuracy: 0.4593 - val_loss: 1.5933 - val_accuracy: 0.4284\n"
     ]
    },
    {
     "data": {
      "text/plain": [
       "<keras.callbacks.History at 0x143a5fd8f40>"
      ]
     },
     "execution_count": 7,
     "metadata": {},
     "output_type": "execute_result"
    }
   ],
   "source": [
    "model.fit(X_train, y_train, validation_data=(X_valid, y_valid), epochs=20, callbacks=callbacks)"
   ]
  },
  {
   "cell_type": "code",
   "execution_count": 8,
   "id": "7411f1b5-636e-41cb-a458-bcfb9cd7efab",
   "metadata": {},
   "outputs": [
    {
     "name": "stdout",
     "output_type": "stream",
     "text": [
      "157/157 [==============================] - 2s 10ms/step - loss: 1.5933 - accuracy: 0.4284\n"
     ]
    },
    {
     "data": {
      "text/plain": [
       "[1.5933078527450562, 0.4284000098705292]"
      ]
     },
     "execution_count": 8,
     "metadata": {},
     "output_type": "execute_result"
    }
   ],
   "source": [
    "#load model\n",
    "model = keras.models.load_model(\"my_cifar10_model.h5\")\n",
    "model.evaluate(X_valid, y_valid)"
   ]
  },
  {
   "cell_type": "code",
   "execution_count": 9,
   "id": "797e8fa6-33e5-4e49-a0e8-0eb17d6cc5d2",
   "metadata": {},
   "outputs": [],
   "source": [
    "keras.backend.clear_session()\n",
    "tf.random.set_seed(42)\n",
    "np.random.seed(42)\n",
    "\n",
    "model = keras.models.Sequential()\n",
    "model.add(keras.layers.Flatten(input_shape=[32, 32, 3]))\n",
    "model.add(keras.layers.BatchNormalization())\n",
    "for _ in range(20):\n",
    "    model.add(keras.layers.Dense(100, kernel_initializer=\"he_normal\"))\n",
    "    model.add(keras.layers.BatchNormalization())\n",
    "    model.add(keras.layers.Activation(\"elu\"))\n",
    "model.add(keras.layers.Dense(10, activation=\"softmax\"))\n",
    "\n",
    "optimizer = keras.optimizers.Nadam(learning_rate=5e-4)\n",
    "model.compile(loss=\"sparse_categorical_crossentropy\",\n",
    "              optimizer=optimizer,\n",
    "              metrics=[\"accuracy\"])"
   ]
  },
  {
   "cell_type": "code",
   "execution_count": 11,
   "id": "3db8b31f-2505-4e59-a8ce-c4d0cc44acbe",
   "metadata": {},
   "outputs": [
    {
     "name": "stdout",
     "output_type": "stream",
     "text": [
      "Epoch 1/20\n",
      "1407/1407 [==============================] - 140s 99ms/step - loss: 1.1719 - accuracy: 0.5879 - val_loss: 1.3735 - val_accuracy: 0.5222\n",
      "Epoch 2/20\n",
      "1407/1407 [==============================] - 112s 80ms/step - loss: 1.1563 - accuracy: 0.5914 - val_loss: 1.3322 - val_accuracy: 0.5354\n",
      "Epoch 3/20\n",
      "1407/1407 [==============================] - 116s 83ms/step - loss: 1.1408 - accuracy: 0.5986 - val_loss: 1.3393 - val_accuracy: 0.5326\n",
      "Epoch 4/20\n",
      "1407/1407 [==============================] - 71s 51ms/step - loss: 1.1096 - accuracy: 0.6076 - val_loss: 1.3263 - val_accuracy: 0.5454\n",
      "Epoch 7/20\n",
      "1407/1407 [==============================] - 92s 66ms/step - loss: 1.0294 - accuracy: 0.6397 - val_loss: 1.3928 - val_accuracy: 0.5318\n",
      "Epoch 14/20\n",
      "1407/1407 [==============================] - 120s 85ms/step - loss: 1.0187 - accuracy: 0.6421 - val_loss: 1.3546 - val_accuracy: 0.5370\n",
      "Epoch 15/20\n",
      "1407/1407 [==============================] - 102s 72ms/step - loss: 1.0044 - accuracy: 0.6443 - val_loss: 1.3825 - val_accuracy: 0.5320\n",
      "Epoch 16/20\n",
      "1407/1407 [==============================] - 97s 69ms/step - loss: 1.0023 - accuracy: 0.6473 - val_loss: 1.3758 - val_accuracy: 0.5350\n",
      "Epoch 17/20\n",
      "1407/1407 [==============================] - 104s 74ms/step - loss: 0.9881 - accuracy: 0.6533 - val_loss: 1.3524 - val_accuracy: 0.5430\n",
      "Epoch 18/20\n",
      "1407/1407 [==============================] - 105s 75ms/step - loss: 0.9777 - accuracy: 0.6564 - val_loss: 1.3887 - val_accuracy: 0.5402\n",
      "Epoch 19/20\n",
      "1407/1407 [==============================] - 110s 78ms/step - loss: 0.9741 - accuracy: 0.6575 - val_loss: 1.3812 - val_accuracy: 0.5434\n",
      "Epoch 20/20\n",
      "1407/1407 [==============================] - 100s 71ms/step - loss: 0.9561 - accuracy: 0.6621 - val_loss: 1.4154 - val_accuracy: 0.5378\n"
     ]
    },
    {
     "data": {
      "text/plain": [
       "<keras.callbacks.History at 0x143ae13d940>"
      ]
     },
     "execution_count": 11,
     "metadata": {},
     "output_type": "execute_result"
    }
   ],
   "source": [
    "early_stopping_cb = keras.callbacks.EarlyStopping(patience=20)\n",
    "model_checkpoint_cb = keras.callbacks.ModelCheckpoint(\"my_cifar10_bn_model.h5\", save_best_only=True)\n",
    "run_index = 1 # increment every time you train the model\n",
    "run_logdir = os.path.join(os.curdir, \"my_cifar10_logs\", \"run_bn_{:03d}\".format(run_index))\n",
    "tensorboard_cb = keras.callbacks.TensorBoard(run_logdir)\n",
    "callbacks = [early_stopping_cb, model_checkpoint_cb, tensorboard_cb]\n",
    "\n",
    "model.fit(X_train, y_train, epochs=20,\n",
    "          validation_data=(X_valid, y_valid),\n",
    "          callbacks=callbacks)"
   ]
  },
  {
   "cell_type": "code",
   "execution_count": 4,
   "id": "5421d35d-61cd-4758-935b-d4054fa8b944",
   "metadata": {},
   "outputs": [
    {
     "data": {
      "text/plain": [
       "<tf.Tensor: shape=(10,), dtype=int32, numpy=array([0, 1, 2, 3, 4, 5, 6, 7, 8, 9])>"
      ]
     },
     "execution_count": 4,
     "metadata": {},
     "output_type": "execute_result"
    }
   ],
   "source": [
    "tf.range(10)"
   ]
  },
  {
   "cell_type": "code",
   "execution_count": 5,
   "id": "2a5228a8-fe49-47d8-8a26-725e6b8f4798",
   "metadata": {},
   "outputs": [
    {
     "data": {
      "text/plain": [
       "<tf.Tensor: shape=(10,), dtype=int32, numpy=array([0, 1, 2, 3, 4, 5, 6, 7, 8, 9])>"
      ]
     },
     "execution_count": 5,
     "metadata": {},
     "output_type": "execute_result"
    }
   ],
   "source": [
    "tf.constant(np.arange(10))"
   ]
  }
 ],
 "metadata": {
  "kernelspec": {
   "display_name": "neural_networks",
   "language": "python",
   "name": "neural_networks"
  },
  "language_info": {
   "codemirror_mode": {
    "name": "ipython",
    "version": 3
   },
   "file_extension": ".py",
   "mimetype": "text/x-python",
   "name": "python",
   "nbconvert_exporter": "python",
   "pygments_lexer": "ipython3",
   "version": "3.9.13"
  }
 },
 "nbformat": 4,
 "nbformat_minor": 5
}
